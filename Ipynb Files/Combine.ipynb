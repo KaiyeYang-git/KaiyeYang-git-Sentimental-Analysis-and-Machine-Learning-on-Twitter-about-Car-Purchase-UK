{
 "cells": [
  {
   "cell_type": "code",
   "execution_count": 17,
   "metadata": {},
   "outputs": [],
   "source": [
    "import pandas as pd\n",
    "\n",
    "flair=pd.read_csv('C:/Users/ky002/Desktop/Dickens/Postgraduate/Dissertation/Programmes & Codes & Graphs/Data Source/flair_score.csv')['flair sentiment']\n",
    "roberta=pd.read_csv('C:/Users/ky002/Desktop/Dickens/Postgraduate/Dissertation/Programmes & Codes & Graphs/Data Source/roberta_score.csv')['roberta sentiment']\n",
    "balance,attitude_list=[],[]\n",
    "for a,b in zip(flair,roberta):\n",
    "    final_result=0.35*a+0.65*b\n",
    "    balance.append(final_result)\n",
    "for score in balance:\n",
    "    if score<-0.30:\n",
    "        attitude='Extremely Negative'\n",
    "    elif score>=-0.30 and score<-0.10:\n",
    "        attitude='Slightly Negative'\n",
    "    elif abs(score)<=0.10:\n",
    "        attitude='Neutral'\n",
    "    elif score>0.10 and score<=0.50:\n",
    "        attitude='Slightly Positive'\n",
    "    else:\n",
    "        attitude='Extremely Positive'\n",
    "    attitude_list.append(attitude)\n",
    "\n",
    "tweet_data=pd.read_csv('C:/Users/ky002/Desktop/Dickens/Postgraduate/Dissertation/Programmes & Codes & Graphs/Data Source/final_tweet_data.csv',sep=',',encoding='utf_8')\n",
    "tweet_data=tweet_data.drop(['bert_based_sentiment'],axis=1)\n",
    "tweet_data.insert(loc=20, column='bert_based_sentiment', value=attitude_list)\n",
    "tweet_data.to_csv('C:/Users/ky002/Desktop/Dickens/Postgraduate/Dissertation/Programmes & Codes & Graphs/Data Source/final_tweet_data_v1.csv',sep=',',encoding='utf_8')"
   ]
  }
 ],
 "metadata": {
  "kernelspec": {
   "display_name": "Python 3.9.13 64-bit",
   "language": "python",
   "name": "python3"
  },
  "language_info": {
   "codemirror_mode": {
    "name": "ipython",
    "version": 3
   },
   "file_extension": ".py",
   "mimetype": "text/x-python",
   "name": "python",
   "nbconvert_exporter": "python",
   "pygments_lexer": "ipython3",
   "version": "3.9.13"
  },
  "orig_nbformat": 4,
  "vscode": {
   "interpreter": {
    "hash": "46c53dfe207e1bf458957234df624eec1401b1cc104da5f2e9e6134dc26f11c7"
   }
  }
 },
 "nbformat": 4,
 "nbformat_minor": 2
}
